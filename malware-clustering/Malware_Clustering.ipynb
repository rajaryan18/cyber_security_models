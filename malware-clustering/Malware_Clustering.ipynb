{
  "nbformat": 4,
  "nbformat_minor": 0,
  "metadata": {
    "colab": {
      "provenance": []
    },
    "kernelspec": {
      "name": "python3",
      "display_name": "Python 3"
    },
    "language_info": {
      "name": "python"
    }
  },
  "cells": [
    {
      "cell_type": "markdown",
      "source": [
        "## Malware Clustering"
      ],
      "metadata": {
        "id": "BzfjnepD7TZV"
      }
    },
    {
      "cell_type": "code",
      "execution_count": 16,
      "metadata": {
        "id": "jSqVVmSZ7IBe"
      },
      "outputs": [],
      "source": [
        "import tensorflow as tf\n",
        "from tensorflow.compat.v1.estimator.experimental import KMeans\n",
        "import pandas as pd"
      ]
    },
    {
      "cell_type": "code",
      "source": [
        "df = pd.read_csv(\"data.csv\")"
      ],
      "metadata": {
        "id": "9LnW5be-9c36"
      },
      "execution_count": 27,
      "outputs": []
    },
    {
      "cell_type": "code",
      "source": [
        "df.corr()['legitimate']"
      ],
      "metadata": {
        "id": "Ae6629Xr2KxR"
      },
      "execution_count": null,
      "outputs": []
    },
    {
      "cell_type": "code",
      "source": [
        "corr = df.corr()['legitimate']"
      ],
      "metadata": {
        "id": "4_6DyGaV9gdI"
      },
      "execution_count": 28,
      "outputs": []
    },
    {
      "cell_type": "code",
      "source": [
        "dropping_cols = ['md5', 'ID', 'SectionsMaxEntropy']\n",
        "for col in df.columns:\n",
        "  if col != 'md5' and abs(corr[col]) < 0.1:\n",
        "    dropping_cols.append(col)\n",
        "\n",
        "df = df.drop(columns=dropping_cols)"
      ],
      "metadata": {
        "id": "Db9zf1ImC8tX"
      },
      "execution_count": 29,
      "outputs": []
    },
    {
      "cell_type": "code",
      "source": [
        "df.columns"
      ],
      "metadata": {
        "colab": {
          "base_uri": "https://localhost:8080/"
        },
        "id": "GPpsNIAV0oa0",
        "outputId": "f4e832df-825a-415f-cc7b-37b1c79d4b77"
      },
      "execution_count": 30,
      "outputs": [
        {
          "output_type": "execute_result",
          "data": {
            "text/plain": [
              "Index(['Machine', 'SizeOfOptionalHeader', 'Characteristics',\n",
              "       'MajorLinkerVersion', 'MinorLinkerVersion', 'MajorSubsystemVersion',\n",
              "       'CheckSum', 'Subsystem', 'DllCharacteristics', 'SectionsNb',\n",
              "       'SectionsMeanEntropy', 'ResourcesMinEntropy', 'ResourcesMaxEntropy',\n",
              "       'legitimate'],\n",
              "      dtype='object')"
            ]
          },
          "metadata": {},
          "execution_count": 30
        }
      ]
    },
    {
      "cell_type": "markdown",
      "source": [
        "## Calculating Variables\n",
        "* Calculating number of ones and zeroes to find the accuracy of the model\n",
        "* This will then run through a K Means Clustering Algorithm to find the two clusters."
      ],
      "metadata": {
        "id": "MFNh4VzTF8hv"
      }
    },
    {
      "cell_type": "code",
      "source": [
        "X = df.iloc[:, :-1].values\n",
        "y = df.iloc[:, -1].values\n"
      ],
      "metadata": {
        "id": "yN4PSNIkB6Mm"
      },
      "execution_count": 31,
      "outputs": []
    },
    {
      "cell_type": "code",
      "source": [
        "def input_fn():\n",
        "  return tf.compat.v1.train.limit_epochs(tf.convert_to_tensor(X, dtype=tf.float32), num_epochs=1)"
      ],
      "metadata": {
        "id": "MZW5yxyJAdJC"
      },
      "execution_count": 32,
      "outputs": []
    },
    {
      "cell_type": "code",
      "source": [
        "kmeans = KMeans(num_clusters=2,\n",
        "                model_dir=None,\n",
        "                seed=None,\n",
        "                use_mini_batch=True,\n",
        "                mini_batch_steps_per_iteration=1,\n",
        "                kmeans_plus_plus_num_retries=2,\n",
        "                relative_tolerance=None,\n",
        "                config=None,\n",
        "                feature_columns=None\n",
        ")\n",
        "\n",
        "for iteration in range(5):\n",
        "  print(f\"Iteration Number: {iteration}\")\n",
        "  try:\n",
        "    kmeans.train(input_fn)\n",
        "  except:\n",
        "    pass"
      ],
      "metadata": {
        "id": "OKbXP5369h3B"
      },
      "execution_count": null,
      "outputs": []
    },
    {
      "cell_type": "code",
      "source": [
        "cluster_indices = list(kmeans.predict_cluster_index(input_fn))\n",
        "clusters = {}\n",
        "for index in cluster_indices:\n",
        "  if index in clusters.keys():\n",
        "    clusters[index] += 1\n",
        "  else:\n",
        "    clusters[index] = 1\n",
        "\n",
        "print(clusters)"
      ],
      "metadata": {
        "id": "8y6amr-fCr32"
      },
      "execution_count": null,
      "outputs": []
    }
  ]
}