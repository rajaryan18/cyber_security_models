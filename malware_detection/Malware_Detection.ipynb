{
  "nbformat": 4,
  "nbformat_minor": 0,
  "metadata": {
    "colab": {
      "provenance": []
    },
    "kernelspec": {
      "name": "python3",
      "display_name": "Python 3"
    },
    "language_info": {
      "name": "python"
    },
    "accelerator": "GPU",
    "gpuClass": "standard"
  },
  "cells": [
    {
      "cell_type": "markdown",
      "source": [
        "## Malware Detection\n",
        "* 0 -> Benign\n",
        "* 1 -> Malware"
      ],
      "metadata": {
        "id": "dT9I99y3d4n7"
      }
    },
    {
      "cell_type": "code",
      "execution_count": null,
      "metadata": {
        "id": "Aj70WqcV6dhB"
      },
      "outputs": [],
      "source": [
        "import torch\n",
        "import pandas as pd\n",
        "from torch import nn"
      ]
    },
    {
      "cell_type": "code",
      "source": [
        "device = \"cuda\" if torch.cuda.is_available() else \"cpu\"\n",
        "device"
      ],
      "metadata": {
        "colab": {
          "base_uri": "https://localhost:8080/",
          "height": 36
        },
        "id": "Jc8ptpVh6nX1",
        "outputId": "5c984850-2ee2-4108-fafe-2ce6d9da9283"
      },
      "execution_count": null,
      "outputs": [
        {
          "output_type": "execute_result",
          "data": {
            "text/plain": [
              "'cuda'"
            ],
            "application/vnd.google.colaboratory.intrinsic+json": {
              "type": "string"
            }
          },
          "metadata": {},
          "execution_count": 2
        }
      ]
    },
    {
      "cell_type": "markdown",
      "source": [
        "## Importing Dataset and extracting training, validation and test data\n",
        "\n",
        "* First Feature scaling is performed using scikitlearn\n",
        "* Used a split of 60:20:20 split\n",
        "* Changed all data to torch.Tensor with type = Torch.float32"
      ],
      "metadata": {
        "id": "MEHZT92OMFBy"
      }
    },
    {
      "cell_type": "code",
      "source": [
        "df = pd.read_excel('malware.xlsx')\n",
        "\n",
        "X = df.iloc[:, :-1].values\n",
        "y = df.iloc[:, -1].values\n",
        "y = torch.tensor(y, dtype=torch.float32).reshape(-1, 1)\n",
        "X = torch.tensor(X).type(torch.float32)"
      ],
      "metadata": {
        "id": "ZhClL1PU7j6x"
      },
      "execution_count": null,
      "outputs": []
    },
    {
      "cell_type": "code",
      "source": [
        "from sklearn.preprocessing import StandardScaler\n",
        "\n",
        "scaler = StandardScaler()\n",
        "X = scaler.fit_transform(X)\n",
        "X = torch.from_numpy(X).type(torch.float32)"
      ],
      "metadata": {
        "id": "SiVFPWAXJEwU"
      },
      "execution_count": null,
      "outputs": []
    },
    {
      "cell_type": "code",
      "source": [
        "X.shape, y.shape"
      ],
      "metadata": {
        "colab": {
          "base_uri": "https://localhost:8080/"
        },
        "id": "qEk9W8mo6GrH",
        "outputId": "d4b420ec-4424-4b0d-9fc0-8341965494c8"
      },
      "execution_count": null,
      "outputs": [
        {
          "output_type": "execute_result",
          "data": {
            "text/plain": [
              "(torch.Size([58596, 52]), torch.Size([58596, 1]))"
            ]
          },
          "metadata": {},
          "execution_count": 5
        }
      ]
    },
    {
      "cell_type": "code",
      "source": [
        "from sklearn.model_selection import train_test_split\n",
        "\n",
        "X_train, X_test, y_train, y_test = train_test_split(X, y, test_size=0.2, shuffle=True)\n",
        "X_train, X_val, y_train, y_val = train_test_split(X_train, y_train, test_size=0.25, shuffle=True)"
      ],
      "metadata": {
        "id": "gOMAshpKHX_Q"
      },
      "execution_count": null,
      "outputs": []
    },
    {
      "cell_type": "code",
      "source": [
        "X_train, y_train = X_train.to(device), y_train.to(device)\n",
        "X_test, y_test = X_test.to(device), y_test.to(device)\n",
        "X_val, y_val = X_val.to(device), y_val.to(device)\n",
        "\n",
        "y_train = y_train.squeeze()\n",
        "y_test = y_test.squeeze()\n",
        "y_val = y_val.squeeze()"
      ],
      "metadata": {
        "id": "ZrRiOYBvGbGh"
      },
      "execution_count": null,
      "outputs": []
    },
    {
      "cell_type": "markdown",
      "source": [
        "## Malware Detection Model\n",
        "* 1 Input Layer of size 52\n",
        "* 1 Hidden Layer of size 110\n",
        "* 1 Output Layer of size 1\n",
        "* Non-linear activation function `ReLU()` is used"
      ],
      "metadata": {
        "id": "0PQHPFaLM7Eu"
      }
    },
    {
      "cell_type": "code",
      "source": [
        "class MalwareDetection(nn.Module):\n",
        "  def __init__(self):\n",
        "    super().__init__()\n",
        "    self.model = nn.Sequential(\n",
        "        nn.Linear(in_features=52, out_features=110),\n",
        "        nn.ReLU(),\n",
        "        nn.Linear(in_features=110, out_features=1)\n",
        "    )\n",
        "  \n",
        "  def forward(self, x):\n",
        "    return self.model(x)\n",
        "\n",
        "model = MalwareDetection().to(device)"
      ],
      "metadata": {
        "id": "aKaFT75RD72R"
      },
      "execution_count": null,
      "outputs": []
    },
    {
      "cell_type": "code",
      "source": [
        "def accuracy_fn(y_true, y_pred):\n",
        "  \"\"\"\n",
        "  Returns the Accuracy based on number of matches found between corresponding indices in True value and Predicted value\n",
        "  \"\"\"\n",
        "  # torch.eq equates all corresponding values of two tensors\n",
        "  correct = torch.eq(y_true, y_pred).sum().item()\n",
        "  acc = (correct/len(y_pred)) *100\n",
        "  return acc"
      ],
      "metadata": {
        "id": "MUCpgT-GABFF"
      },
      "execution_count": null,
      "outputs": []
    },
    {
      "cell_type": "code",
      "source": [
        "def test(model: nn.Module, X_test: torch.Tensor, y_test: torch.Tensor, loss_fn: nn.Module) -> dict:\n",
        "  \"\"\"\n",
        "  Runs Testing and returns the Accuracy and model name\n",
        "  \"\"\"\n",
        "  model.eval()\n",
        "  with torch.inference_mode():\n",
        "    test_logits = model(X_test).squeeze()\n",
        "    test_acc = accuracy_fn(y_test, torch.round(torch.sigmoid(test_logits)))\n",
        "    test_loss = loss_fn(test_logits, y_test)\n",
        "  \n",
        "  report = {\n",
        "      \"Model Name\": model.__class__.__name__,\n",
        "      \"Test Loss\": test_loss,\n",
        "      \"Test Accuracy\": test_acc\n",
        "  }\n",
        "  return report"
      ],
      "metadata": {
        "id": "--P56bZAE32Y"
      },
      "execution_count": null,
      "outputs": []
    },
    {
      "cell_type": "code",
      "source": [
        "def train(model: nn.Module, X_train: torch.Tensor, y_train: torch.Tensor, X_test: torch.Tensor, y_test: torch.Tensor, loss_fn: nn.Module, optimizer: torch.optim.Optimizer, epochs: int=1000):\n",
        "  \"\"\"\n",
        "  Function to Run the Training Loop.\n",
        "  Takes Training Data and Validation data as parameter along with model, loss function and Optimizer\n",
        "  \"\"\"\n",
        "\n",
        "  print(f\"Model: {model.__class__.__name__}\")\n",
        "  for epoch in range(epochs):\n",
        "    model.train()\n",
        "    y_logits = model(X_train).squeeze()\n",
        "    loss = loss_fn(y_logits, y_train)\n",
        "    optimizer.zero_grad()\n",
        "    loss.backward()\n",
        "    optimizer.step()\n",
        "\n",
        "    report = test(model, X_test, y_test, loss_fn)\n",
        "    test_loss = report[\"Test Loss\"]\n",
        "    test_acc = report[\"Test Accuracy\"]\n",
        "\n",
        "    if epoch%100 == 0:\n",
        "      print(f\"Epoch: {epoch} | Loss: {loss:.5f} | Test Loss: {test_loss:.5f} | Test Acc: {test_acc:.5f}\")"
      ],
      "metadata": {
        "id": "c0EDN-YTJ3cc"
      },
      "execution_count": null,
      "outputs": []
    },
    {
      "cell_type": "code",
      "source": [
        "# Loss Function and Optimizer defined here\n",
        "loss_fn = nn.BCEWithLogitsLoss()\n",
        "optimizer = torch.optim.SGD(params=model.parameters(), lr=0.1)"
      ],
      "metadata": {
        "id": "2fBc8YzKF055"
      },
      "execution_count": null,
      "outputs": []
    },
    {
      "cell_type": "code",
      "source": [
        "# Training the Model\n",
        "train(model, X_train, y_train, X_val, y_val, loss_fn, optimizer, 1000)"
      ],
      "metadata": {
        "colab": {
          "base_uri": "https://localhost:8080/"
        },
        "id": "lEu7XEaDD2Mb",
        "outputId": "02ddc618-ea25-4374-e759-064d97ba3bfd"
      },
      "execution_count": null,
      "outputs": [
        {
          "output_type": "stream",
          "name": "stdout",
          "text": [
            "Model: MalwareDetection\n",
            "Epoch: 0 | Loss: 0.74860 | Test Loss: 0.67409 | Test Acc: 47.80271\n",
            "Epoch: 100 | Loss: 0.03190 | Test Loss: 0.02831 | Test Acc: 99.45388\n",
            "Epoch: 200 | Loss: 0.01544 | Test Loss: 0.01412 | Test Acc: 99.76107\n",
            "Epoch: 300 | Loss: 0.01173 | Test Loss: 0.01053 | Test Acc: 99.76107\n",
            "Epoch: 400 | Loss: 0.01004 | Test Loss: 0.00891 | Test Acc: 99.78667\n",
            "Epoch: 500 | Loss: 0.00902 | Test Loss: 0.00797 | Test Acc: 99.83787\n",
            "Epoch: 600 | Loss: 0.00832 | Test Loss: 0.00736 | Test Acc: 99.88907\n",
            "Epoch: 700 | Loss: 0.00781 | Test Loss: 0.00694 | Test Acc: 99.91467\n",
            "Epoch: 800 | Loss: 0.00740 | Test Loss: 0.00663 | Test Acc: 99.92320\n",
            "Epoch: 900 | Loss: 0.00707 | Test Loss: 0.00640 | Test Acc: 99.93173\n"
          ]
        }
      ]
    },
    {
      "cell_type": "code",
      "source": [
        "report = test(model, X_test, y_test, loss_fn)\n",
        "report"
      ],
      "metadata": {
        "id": "aGpNACC6PQbN",
        "colab": {
          "base_uri": "https://localhost:8080/"
        },
        "outputId": "5abea40d-f2e9-466e-c011-14a54182d65b"
      },
      "execution_count": null,
      "outputs": [
        {
          "output_type": "execute_result",
          "data": {
            "text/plain": [
              "{'Model Name': 'MalwareDetection',\n",
              " 'Test Loss': tensor(0.0064, device='cuda:0'),\n",
              " 'Test Accuracy': 99.9061433447099}"
            ]
          },
          "metadata": {},
          "execution_count": 14
        }
      ]
    },
    {
      "cell_type": "markdown",
      "source": [
        "## Final Accuracy\n",
        "\n",
        "* 99.93173%"
      ],
      "metadata": {
        "id": "oKERqeKbL0ZR"
      }
    }
  ]
}